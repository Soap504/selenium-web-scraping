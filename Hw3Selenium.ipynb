{
 "cells": [
  {
   "cell_type": "code",
   "execution_count": 9,
   "id": "1392b030-2ae2-4207-899c-d9ab2a83ff11",
   "metadata": {},
   "outputs": [],
   "source": [
    "from parsel import Selector\n",
    "from selenium import webdriver\n",
    "from selenium.webdriver.common.by import By\n",
    "from selenium.webdriver.chrome.options import Options\n",
    "from selenium.webdriver.support.ui import WebDriverWait\n",
    "from selenium.webdriver.support import expected_conditions as EC\n",
    "import time\n",
    "\n"
   ]
  },
  {
   "cell_type": "code",
   "execution_count": 10,
   "id": "b70affbd-a47a-461e-8100-965ea21a6811",
   "metadata": {},
   "outputs": [],
   "source": [
    "# configure webdriver\n",
    "options = Options()\n",
    "options.headless = True  # hide GUI\n",
    "options.add_argument(\"--window-size=1920,1080\")  # set window size to native GUI size\n",
    "options.add_argument(\"start-maximized\")  # ensure window is full-screen\n",
    "# configure chrome browser to not load images and javascript\n",
    "chrome_options = webdriver.ChromeOptions()\n",
    "chrome_options.add_experimental_option(\n",
    "    # this will disable image loading\n",
    "    \"prefs\", {\"profile.managed_default_content_settings.images\": 2}\n",
    ")"
   ]
  },
  {
   "cell_type": "code",
   "execution_count": 11,
   "id": "61f1e547-8b36-4160-a576-723e9e328987",
   "metadata": {},
   "outputs": [],
   "source": [
    "# Use only the options argument\n",
    "driver = webdriver.Chrome(options=chrome_options)\n",
    "driver.get(\"https://www.twitch.tv/directory/game/Art\")\n"
   ]
  },
  {
   "cell_type": "code",
   "execution_count": 12,
   "id": "1fdb452d-a488-46f5-9968-a3bac246a8be",
   "metadata": {},
   "outputs": [],
   "source": [
    "# wait for page to load\n",
    "element = WebDriverWait(driver=driver, timeout=5).until(\n",
    "    EC.presence_of_element_located((By.CSS_SELECTOR, 'div[data-target=directory-first-item]'))\n",
    ")"
   ]
  },
  {
   "cell_type": "code",
   "execution_count": 13,
   "id": "26a6620c-48fd-4f9d-9cd6-fe058ca5f587",
   "metadata": {},
   "outputs": [],
   "source": [
    "from parsel import Selector\n",
    "\n",
    "html = driver.page_source\n",
    "sel = Selector(text=driver.page_source)\n",
    "parsed = []\n",
    "for item in sel.xpath(\"//div[contains(@class,'tw-tower')]/div[@data-target]\"):\n",
    "    parsed.append({\n",
    "        'title': item.css('h3::text').get(),\n",
    "        'url': item.css('.tw-link::attr(href)').get(),\n",
    "        'username': item.css('.tw-link::text').get(),\n",
    "        'tags': item.css('.tw-tag ::text').getall(),\n",
    "        'viewers': ''.join(item.css('.tw-media-card-stat::text').re(r'(\\d+)')),\n",
    "    })"
   ]
  },
  {
   "cell_type": "code",
   "execution_count": 14,
   "id": "d5d04f10-7285-4a45-932a-f66e5a1a779d",
   "metadata": {},
   "outputs": [
    {
     "name": "stdout",
     "output_type": "stream",
     "text": [
      "{'title': 'baldurs gate 3 art contest !bsky', 'url': '/39daph', 'username': None, 'tags': ['Geriatric', 'Unhygienic', 'Deceptive'], 'viewers': '16'}\n",
      "{'title': '197 日 pain peko ♡ !shop !discord', 'url': '/davanchiart', 'username': None, 'tags': ['DigitalArt', 'anime', 'commissions'], 'viewers': '81'}\n",
      "{'title': '[art] [png] maximum comfy vibes bc i need it today || !givathon2 !studyhall !discord', 'url': '/jinkgo_', 'username': None, 'tags': ['Charity', 'Comfy', 'ArtCommunity'], 'viewers': '79'}\n",
      "{'title': \"I'M FEELIN IT MR KRABS 🌸💌 !cover !uwu !discord !howtofish\", 'url': '/bun_mii', 'username': None, 'tags': ['Vtuber', 'art', 'comfy', 'pink'], 'viewers': '70'}\n",
      "{'title': '/ᐠ - ˕ -マ drawing 5 new emotes!! [monothon day 4]', 'url': '/404mono', 'username': None, 'tags': ['Cozy', 'English', 'Asian', 'Vtuber'], 'viewers': '87'}\n",
      "{'title': 'wade  !novych / Stickers !mail / Sign on my offline screen !sign', 'url': '/nemobiues', 'username': None, 'tags': ['Malaysia', 'Burps', 'CatFish'], 'viewers': '56'}\n",
      "{'title': '【Art Nonsense】back to business/insanity', 'url': '/raneblu', 'username': None, 'tags': ['Chill', 'Vtuber', '18plus'], 'viewers': '17'}\n",
      "{'title': '✧ finishing viewer doodle requests pt3 ✧ halfway done ♡ coworking with @jisen8', 'url': '/carmilla_png', 'username': None, 'tags': ['English'], 'viewers': '80'}\n",
      "{'title': 'ARCANE ART! - NEW PRINT DROPS  !  !Prints | !Website | !GG | !website | !senpai |', 'url': '/suto', 'username': None, 'tags': ['artist', 'Anime', 'girl', 'Suto'], 'viewers': '242'}\n",
      "{'title': 'PARADOX LIVE FANS PSPSPSPSPS', 'url': '/universebunny_cc', 'username': None, 'tags': ['Australia', 'VArtistEN', 'vtuber'], 'viewers': '15'}\n",
      "{'title': 'OVERWORKING', 'url': '/tteokiee', 'username': None, 'tags': ['English', 'asmr', 'tweaking'], 'viewers': '41'}\n",
      "{'title': 'Work very sad', 'url': '/nebokeru', 'username': None, 'tags': ['Cozy', 'Chatty', 'LGBTQIAPlus'], 'viewers': '32'}\n",
      "{'title': '[+18] sketchbook time! ( ˶ˆᗜˆ˵ )', 'url': '/vensroom', 'username': None, 'tags': ['vtuber', 'Asian', 'cat', 'Singapore'], 'viewers': '50'}\n",
      "{'title': 'ART TALK! | Showing off Chats Art | !arttalk !socials !merch !fish', 'url': '/mack_gyver', 'username': None, 'tags': ['traditional', 'English'], 'viewers': '25'}\n",
      "{'title': 'Unwrapping a fox girl | !vgen !comms !shop !discord !socials !youtube !twitter', 'url': '/spacepiratefenrir', 'username': None, 'tags': ['MaleVtuber', '日本語OK', 'ADHD'], 'viewers': '29'}\n",
      "{'title': '[no mic / studying] face study time! prepping for the next lesson! | !fish !discord !rizz', 'url': '/serxne_', 'username': None, 'tags': ['CatGirl', 'English', 'VTuber'], 'viewers': '12'}\n",
      "{'title': 'Working on a painting for a client! Open for commissions. Come vibe! [ 18+] !kofi !throne', 'url': '/faustttv', 'username': None, 'tags': ['VTuber', 'LGBTQIAPlus', 'Artist'], 'viewers': '26'}\n",
      "{'title': 'continuation of completing doodle requests :3', 'url': '/pluufi', 'username': None, 'tags': ['Vtuber', 'art', 'buh', 'English'], 'viewers': '10'}\n",
      "{'title': 'endwalker pvp rdm funeral', 'url': '/shilin', 'username': None, 'tags': ['PVP', 'English', 'photoshop'], 'viewers': '37'}\n",
      "{'title': '🔴 New 2 Hour Training Routine Starts Today! --> Art Work Later | !commands !oh !lewd !socials !shop |', 'url': '/overlord_jc', 'username': None, 'tags': ['Digitalartist', 'fanart', 'Animation'], 'viewers': '59'}\n",
      "{'title': '👑 24HR Painting Stream // MOST EPIC ANIME PAINTING YET..  !store', 'url': '/supbirdy_', 'username': None, 'tags': ['English', 'justchatting', 'chat'], 'viewers': '34'}\n",
      "{'title': 'Monday Vibez🧵Why Are People Like This?🧶Art Reacts🎨Deciding On A Tunesday Theme🎮Dream Drop Distance Later', 'url': '/doodlebirb', 'username': None, 'tags': ['CoWorking', 'Interactive'], 'viewers': '60'}\n",
      "{'title': '[no mic] short 2 hour stream !comms', 'url': '/alllenski', 'username': None, 'tags': ['SuperCoolOverlay', 'PixelArt'], 'viewers': '7'}\n",
      "{'title': 'focus mode fr fr', 'url': '/klaius', 'username': None, 'tags': ['English', 'Illustration', 'Anime'], 'viewers': '150'}\n",
      "{'title': 'Are we crying? | lurker r hawt | !throne !discord !lurk', 'url': '/micahmijin', 'username': None, 'tags': ['VarietyStreamer', 'Seiso', 'ADHD'], 'viewers': '44'}\n",
      "{'title': '『 I understand it now 』♡/3000 !vgen !throne !song', 'url': '/otsukarii', 'username': None, 'tags': ['English', 'anime', 'comfy', 'black'], 'viewers': '68'}\n",
      "{'title': \"Donothon Day 37 It's Fashion Baby [Outfit Design Comms] | !donothon !kofi !sponsor !comic\", 'url': '/faecakes', 'username': None, 'tags': ['Yapper', 'CoWorking', 'Drawing'], 'viewers': '42'}\n",
      "{'title': 'Art colab with @tehnessa [ !merch ][ !gdc ]!', 'url': '/valoraplays', 'username': None, 'tags': ['chatty', 'TraditionalArt'], 'viewers': '37'}\n",
      "{'title': 'YAPPERS CHEER ME UP THEN ART LATER', 'url': '/catnaps', 'username': None, 'tags': ['art', 'Anime', 'AuDHD', 'English'], 'viewers': '63'}\n",
      "{'title': 'Enjoy the @ProkoStream - I make fun online drawing ✍️ & painting 🎨 lessons. Join the community & learn here & on Proko.com', 'url': '/prokostream', 'username': None, 'tags': ['Teacher', 'Art', 'Proko', 'Painting'], 'viewers': '15'}\n"
     ]
    }
   ],
   "source": [
    "# Print the parsed data\n",
    "for data in parsed:\n",
    "    print(data)"
   ]
  },
  {
   "cell_type": "code",
   "execution_count": 15,
   "id": "a9c2846a-ef70-46b1-892f-fe4daee045bc",
   "metadata": {},
   "outputs": [],
   "source": [
    "driver.quit()"
   ]
  },
  {
   "cell_type": "code",
   "execution_count": null,
   "id": "f1a9ecef-2563-4a3c-b7a2-81d9bb07f58d",
   "metadata": {},
   "outputs": [],
   "source": []
  }
 ],
 "metadata": {
  "kernelspec": {
   "display_name": "Python 3 (ipykernel)",
   "language": "python",
   "name": "python3"
  },
  "language_info": {
   "codemirror_mode": {
    "name": "ipython",
    "version": 3
   },
   "file_extension": ".py",
   "mimetype": "text/x-python",
   "name": "python",
   "nbconvert_exporter": "python",
   "pygments_lexer": "ipython3",
   "version": "3.12.2"
  }
 },
 "nbformat": 4,
 "nbformat_minor": 5
}
